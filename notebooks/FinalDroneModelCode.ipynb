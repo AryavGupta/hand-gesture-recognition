{
 "cells": [
  {
   "cell_type": "code",
   "execution_count": 2,
   "id": "faaf2a30-b0fa-4c96-972d-019b2c643bea",
   "metadata": {
    "tags": []
   },
   "outputs": [
    {
     "name": "stdout",
     "output_type": "stream",
     "text": [
      "C:\\Users\\aryav\\OneDrive\\Drone data hand\n"
     ]
    }
   ],
   "source": [
    "import os\n",
    "print(os.getcwd())"
   ]
  },
  {
   "cell_type": "code",
   "execution_count": null,
   "id": "14c1e880-fcbf-465f-b2bd-d78ba936080c",
   "metadata": {},
   "outputs": [],
   "source": [
    "!pip install mediapipe"
   ]
  },
  {
   "cell_type": "code",
   "execution_count": 12,
   "id": "956b09f9-dc6c-4464-a854-a7d908201b3b",
   "metadata": {},
   "outputs": [
    {
     "name": "stdout",
     "output_type": "stream",
     "text": [
      "Requirement already satisfied: joblib in c:\\users\\aryav\\anaconda3\\lib\\site-packages (1.2.0)\n"
     ]
    }
   ],
   "source": [
    "!pip install joblib"
   ]
  },
  {
   "cell_type": "code",
   "execution_count": 4,
   "id": "877a34c9-febe-4103-ba7b-81e867430b90",
   "metadata": {
    "tags": []
   },
   "outputs": [],
   "source": [
    "from joblib import load\n",
    "\n",
    "# Load the model\n",
    "loaded_model = load('random_forest_model.joblib')"
   ]
  },
  {
   "cell_type": "code",
   "execution_count": 21,
   "id": "698bc09e-0829-4244-8234-825ac8ffde48",
   "metadata": {
    "tags": []
   },
   "outputs": [],
   "source": [
    "import cv2\n",
    "import mediapipe as mp\n",
    "import numpy as np\n",
    "import time\n",
    "\n",
    "# Initialize MediaPipe Hands\n",
    "mp_hands = mp.solutions.hands\n",
    "hands = mp_hands.Hands()\n",
    "mp_drawing = mp.solutions.drawing_utils\n",
    "\n",
    "# Start capturing video from the camera\n",
    "cap = cv2.VideoCapture(0)\n",
    "\n",
    "while cap.isOpened():\n",
    "    ret, frame = cap.read()\n",
    "    if not ret:\n",
    "        break\n",
    "    \n",
    "    # flip the frame\n",
    "    frame = cv2.flip(frame , 1)\n",
    "    # Convert the frame to RGB\n",
    "    frame_rgb = cv2.cvtColor(frame, cv2.COLOR_BGR2RGB)\n",
    "        \n",
    "    # Process the frame\n",
    "    results = hands.process(frame_rgb)\n",
    "\n",
    "    if results.multi_hand_landmarks: \n",
    "\n",
    "        for hand_index, hand_landmarks in enumerate(results.multi_hand_landmarks):\n",
    "            # Drawing the hand landmarks on the captyured frame\n",
    "            mp_drawing.draw_landmarks(frame, hand_landmarks, mp_hands.HAND_CONNECTIONS)\n",
    "\n",
    "            handedness_list = []\n",
    "            \n",
    "            # Extract handedness\n",
    "            if results.multi_handedness:\n",
    "                handedness = results.multi_handedness[hand_index].classification[0].label\n",
    "            else:\n",
    "                handedness = None\n",
    "            encoded_handedness = 1 if handedness == \"Right\" else 0 if handedness == \"Left\" else None\n",
    "            handedness_list.append(encoded_handedness)\n",
    "            handedness_array = np.array(handedness_list)\n",
    "\n",
    "                \n",
    "            # Extract hand landmarks\n",
    "            landmarks = [(lm.x, lm.y, lm.z) for lm in hand_landmarks.landmark]\n",
    "            \n",
    "            landmark_array = np.array(landmarks)\n",
    "            flattened_land_array = landmark_array.flatten()            \n",
    "\n",
    "            # Extract hand world landmarks (if available)\n",
    "            world_landmarks = [(lm.x, lm.y, lm.z) for lm in results.multi_hand_world_landmarks[hand_index].landmark] if results.multi_hand_world_landmarks else []\n",
    "            \n",
    "            world_landmark_array = np.array(world_landmarks)\n",
    "            flattened_world_array = world_landmark_array.flatten()\n",
    "            \n",
    "            # print(\"flatland\", flattened_land_array.shape)\n",
    "            # print(\"worldland\", flattened_world_array.shape)            \n",
    "            # print(\"handedness\",handedness_array.shape )\n",
    "            \n",
    "            row_info = np.concatenate([handedness_array, flattened_land_array, flattened_world_array])\n",
    "            # print(\"finalrow\", row_info.shape)\n",
    "            \n",
    "            row_info_2d = np.array(row_info).reshape(1, -1)\n",
    "\n",
    "        action_label = loaded_model.predict(row_info_2d)\n",
    "        # print(action_label, type(action_label))\n",
    "        # Define a mapping from values to strings\n",
    "        action_mapping = {\n",
    "            1: \"down\",\n",
    "            0: \"front\",\n",
    "            3: \"right\",\n",
    "            2: \"back\",\n",
    "            4: \"left\",\n",
    "            5: \"up\",\n",
    "            # Add more mappings as needed\n",
    "        }\n",
    "\n",
    "        # Get the value from the array\n",
    "        value = action_label[0]\n",
    "        final_label = action_mapping.get(value, None)\n",
    "        # print(final_label)\n",
    "\n",
    "\n",
    "        # Display the action label on the frame\n",
    "        cv2.putText(frame, f'Action:{final_label}', (10, 30), cv2.FONT_HERSHEY_SIMPLEX, 1, (205, 0, 0), 2, cv2.LINE_AA)\n",
    "            \n",
    "\n",
    "    # Display the frame\n",
    "    cv2.imshow('Hand Landmarks', (frame))\n",
    "\n",
    "    # Setup sleep time for frame in live video\n",
    "    # time.sleep(0.25) \n",
    "   \n",
    "    # Exit loop if 'q' is pressed\n",
    "    if cv2.waitKey(1) & 0xFF == ord('q'):\n",
    "        break\n",
    "\n",
    "# Release the capture and close windows\n",
    "cap.release()\n",
    "cv2.destroyAllWindows()"
   ]
  },
  {
   "cell_type": "code",
   "execution_count": null,
   "id": "1edef4fc-8581-4a06-8518-fd0b41e25282",
   "metadata": {},
   "outputs": [],
   "source": []
  }
 ],
 "metadata": {
  "kernelspec": {
   "display_name": "Python 3 (ipykernel)",
   "language": "python",
   "name": "python3"
  },
  "language_info": {
   "codemirror_mode": {
    "name": "ipython",
    "version": 3
   },
   "file_extension": ".py",
   "mimetype": "text/x-python",
   "name": "python",
   "nbconvert_exporter": "python",
   "pygments_lexer": "ipython3",
   "version": "3.11.5"
  }
 },
 "nbformat": 4,
 "nbformat_minor": 5
}
